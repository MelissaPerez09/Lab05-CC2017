{
 "cells": [
  {
   "cell_type": "markdown",
   "metadata": {},
   "source": [
    "# Laboratorio 05\n",
    "## Generación de Variables Aleatorias Continuas\n",
    "Integrantes:\n",
    "- Ricardo Méndez, 21289\n",
    "- Sara Echeverría, 21371\n",
    "- Melissa Pérez, 21385"
   ]
  },
  {
   "cell_type": "code",
   "execution_count": 1,
   "metadata": {},
   "outputs": [],
   "source": [
    "# Librerías\n",
    "import numpy as np"
   ]
  },
  {
   "cell_type": "markdown",
   "metadata": {},
   "source": [
    "### Task 01\n",
    "Genere muestras aleatorias a partir de una distribución de probabilidad discreta personalizada mediante el método de aceptación-rechazo."
   ]
  },
  {
   "cell_type": "markdown",
   "metadata": {},
   "source": [
    "1. Defina una distribución de probabilidad discreta objetivo con valores y probabilidades especificados.\n",
    "   - Función = \\((x^2)/55\\)"
   ]
  },
  {
   "cell_type": "code",
   "execution_count": null,
   "metadata": {},
   "outputs": [],
   "source": []
  },
  {
   "cell_type": "markdown",
   "metadata": {},
   "source": [
    "2. Elija una distribución de propuesta con un soporte mayor que cubra el soporte de la distribución de destino.\n",
    "   - N.B: El \"soporte\" de una variable aleatoria o distribución de probabilidad se refiere al conjunto de valores para los cuales la variable aleatoria tiene una probabilidad distinta de cero. En otras palabras, es el rango de valores donde la distribución de probabilidad es positiva."
   ]
  },
  {
   "cell_type": "code",
   "execution_count": null,
   "metadata": {},
   "outputs": [],
   "source": []
  },
  {
   "cell_type": "markdown",
   "metadata": {},
   "source": [
    "3. Calcule la constante \\(C\\) para acotar la relación entre el PMF objetivo y el PMF propuesto."
   ]
  },
  {
   "cell_type": "code",
   "execution_count": null,
   "metadata": {},
   "outputs": [],
   "source": []
  },
  {
   "cell_type": "markdown",
   "metadata": {},
   "source": [
    "4. Implemente el método de aceptación-rechazo para generar muestras aleatorias a partir de la distribución discreta personalizada."
   ]
  },
  {
   "cell_type": "code",
   "execution_count": null,
   "metadata": {},
   "outputs": [],
   "source": []
  },
  {
   "cell_type": "markdown",
   "metadata": {},
   "source": [
    "5. Genere una muestra aleatoria de tamaño 1000 a partir de la distribución personalizada."
   ]
  },
  {
   "cell_type": "code",
   "execution_count": null,
   "metadata": {},
   "outputs": [],
   "source": []
  },
  {
   "cell_type": "markdown",
   "metadata": {},
   "source": [
    "6. Trace un histograma de la muestra generada y compárelo con el PMF objetivo."
   ]
  },
  {
   "cell_type": "code",
   "execution_count": null,
   "metadata": {},
   "outputs": [],
   "source": []
  },
  {
   "cell_type": "markdown",
   "metadata": {},
   "source": [
    "### Task 02\n",
    "Suponiendo que es simple generar variables aleatorias con función de probabilidad acumulada Fi(x) para i de 1 a n, tenemos la variable aleatoria V con una función de probabilidad acumulada.\n",
    "$$\n",
    "F(x) = \\sum_{i=1}^{n} p_i F_i(x)\n",
    "$$\n",
    "\n",
    "Donde p_i constituye una distribución probabilística\n",
    "1. Describa un algoritmo para generar V\n",
    "2. Demuestre que el algoritmo genera adecuadamente V\n",
    "\n",
    "Hint: Probablemente le sea de utilidad el método de composición"
   ]
  },
  {
   "cell_type": "code",
   "execution_count": null,
   "metadata": {},
   "outputs": [],
   "source": []
  },
  {
   "cell_type": "markdown",
   "metadata": {},
   "source": [
    "### Task 03\n",
    "\n",
    "Suponga que usted es gerente de proyecto en Inversiones Chileras S.A.; y debe elegir entre dos proyectos a realizar, la construcción de un Hotel o la construcción de un Centro Comercial. Los flujos de caja esperados para cada proyecto son los siguientes:\n",
    "\n",
    "**Proyecto Hotel**\n",
    "\n",
    "| Tiempo | Vt                      |\n",
    "|--------|-------------------------|\n",
    "| 0      | -800                    |\n",
    "| 1      | normal(-800,50)         |\n",
    "| 2      | normal(-800,100)        |\n",
    "| 3      | normal(-700,150)        |\n",
    "| 4      | normal(300,200)         |\n",
    "| 5      | normal(500,200)         |\n",
    "| 7      | uniform(200,8440)       |\n",
    "\n",
    "**Proyecto Centro Comercial**\n",
    "\n",
    "| Tiempo | Vt                      |\n",
    "|--------|-------------------------|\n",
    "| 0      | -900                    |\n",
    "| 1      | normal(-600,50)         |\n",
    "| 2      | normal(-400,50)         |\n",
    "| 3      | normal(250,150)         |\n",
    "| 4      | normal(250,150)         |\n",
    "| 5      | normal(350,150)         |\n",
    "| 7      | uniform(1600,6000)      |\n",
    "\n",
    "Si el parámetro que quiere utilizar para comparar ambos proyectos es el Valor Presente Neto al 10% del costo de capital.\n",
    "\n",
    "1. Realice tres simulaciones para determinar cuál de los proyectos es el más rentable. Utilice 100, 1,000 y 10,000 iteraciones.\n"
   ]
  },
  {
   "cell_type": "code",
   "execution_count": 2,
   "metadata": {},
   "outputs": [],
   "source": [
    "np.random.seed(42)\n",
    "\n",
    "# Descuento\n",
    "r = 0.10\n",
    "\n",
    "# Flujo de caja hotel\n",
    "def flujo_hotel():\n",
    "    return [\n",
    "        -800,\n",
    "        np.random.normal(-800, 50),\n",
    "        np.random.normal(-800, 100),\n",
    "        np.random.normal(-700, 150),\n",
    "        np.random.normal(300, 200),\n",
    "        np.random.normal(400, 200),\n",
    "        np.random.normal(500, 200),\n",
    "        np.random.uniform(200, 8440)\n",
    "    ]\n",
    "\n",
    "# Flujo de caja centro comercial\n",
    "def flujo_centro_comercial():\n",
    "    return [\n",
    "        -900,\n",
    "        np.random.normal(-600, 50),\n",
    "        np.random.normal(-600, 100),\n",
    "        np.random.normal(200, 50),\n",
    "        np.random.normal(200, 150),\n",
    "        np.random.normal(250, 150),\n",
    "        np.random.normal(300, 150),\n",
    "        np.random.uniform(1600, 6000)\n",
    "    ]"
   ]
  },
  {
   "cell_type": "code",
   "execution_count": 3,
   "metadata": {},
   "outputs": [],
   "source": [
    "# Función para calcular el VPN\n",
    "def calcular_vpn(flujos):\n",
    "    return sum(flujo / (1 + r)**t for t, flujo in enumerate(flujos))\n",
    "\n",
    "# Simulación de Monte Carlo\n",
    "def simular_vpn(flujo_proyecto, iteraciones):\n",
    "    vpns = []\n",
    "    for _ in range(iteraciones):\n",
    "        flujos = flujo_proyecto()\n",
    "        vpns.append(calcular_vpn(flujos))\n",
    "    return np.mean(vpns), np.std(vpns)"
   ]
  },
  {
   "cell_type": "code",
   "execution_count": 4,
   "metadata": {},
   "outputs": [
    {
     "name": "stdout",
     "output_type": "stream",
     "text": [
      "Iteraciones: 100\n",
      "Hotel: VPN medio = 75.86, Desviación estándar = 1262.17\n",
      "Centro Comercial: VPN medio = 686.45, Desviación estándar = 684.03\n",
      "El Centro Comercial es el proyecto más rentable.\n",
      "\n",
      "Iteraciones: 1000\n",
      "Hotel: VPN medio = 163.03, Desviación estándar = 1225.54\n",
      "Centro Comercial: VPN medio = 620.84, Desviación estándar = 678.09\n",
      "El Centro Comercial es el proyecto más rentable.\n",
      "\n",
      "Iteraciones: 10000\n",
      "Hotel: VPN medio = 232.55, Desviación estándar = 1247.30\n",
      "Centro Comercial: VPN medio = 624.19, Desviación estándar = 681.82\n",
      "El Centro Comercial es el proyecto más rentable.\n",
      "\n"
     ]
    }
   ],
   "source": [
    "# Número de iteraciones\n",
    "iteraciones = [100, 1000, 10000]\n",
    "\n",
    "# Simulaciones para cada proyecto y cada número de iteraciones\n",
    "for iteracion in iteraciones:\n",
    "    vpn_hotel, std_hotel = simular_vpn(flujo_hotel, iteracion)\n",
    "    vpn_cc, std_cc = simular_vpn(flujo_centro_comercial, iteracion)\n",
    "    \n",
    "    print(f\"Iteraciones: {iteracion}\")\n",
    "    print(f\"Hotel: VPN medio = {vpn_hotel:.2f}, Desviación estándar = {std_hotel:.2f}\")\n",
    "    print(f\"Centro Comercial: VPN medio = {vpn_cc:.2f}, Desviación estándar = {std_cc:.2f}\")\n",
    "    \n",
    "    # Determinar el proyecto más rentable\n",
    "    if vpn_hotel > vpn_cc:\n",
    "        print(\"El Hotel es el proyecto más rentable.\\n\")\n",
    "    else:\n",
    "        print(\"El Centro Comercial es el proyecto más rentable.\\n\")"
   ]
  },
  {
   "cell_type": "markdown",
   "metadata": {},
   "source": [
    "En las tres iteraciones, el centro comercial es el proyecto más rentable porque ha tenido un VPN medio mayor que el del Hotel. También, el Hotel tiene una desviación estándar más alta en comparación con el Centro Comercial, lo que indica una mayor incertidumbre en los resultados."
   ]
  }
 ],
 "metadata": {
  "language_info": {
   "name": "python"
  }
 },
 "nbformat": 4,
 "nbformat_minor": 2
}
