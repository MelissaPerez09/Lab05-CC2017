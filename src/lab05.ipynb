{
 "cells": [
  {
   "cell_type": "markdown",
   "metadata": {},
   "source": [
    "# Laboratorio 05\n",
    "## Generación de Variables Aleatorias Continuas\n",
    "Integrantes:\n",
    "- Ricardo Méndez, 21289\n",
    "- Sara Echeverría, 21371\n",
    "- Melissa Pérez, 21385"
   ]
  },
  {
   "cell_type": "markdown",
   "metadata": {},
   "source": [
    "### Task 01\n",
    "Genere muestras aleatorias a partir de una distribución de probabilidad discreta personalizada mediante el método de aceptación-rechazo."
   ]
  },
  {
   "cell_type": "markdown",
   "metadata": {},
   "source": [
    "1. Defina una distribución de probabilidad discreta objetivo con valores y probabilidades especificados.\n",
    "   - Función = \\((x^2)/55\\)"
   ]
  },
  {
   "cell_type": "code",
   "execution_count": null,
   "metadata": {},
   "outputs": [],
   "source": []
  },
  {
   "cell_type": "markdown",
   "metadata": {},
   "source": [
    "2. Elija una distribución de propuesta con un soporte mayor que cubra el soporte de la distribución de destino.\n",
    "   - N.B: El \"soporte\" de una variable aleatoria o distribución de probabilidad se refiere al conjunto de valores para los cuales la variable aleatoria tiene una probabilidad distinta de cero. En otras palabras, es el rango de valores donde la distribución de probabilidad es positiva."
   ]
  },
  {
   "cell_type": "code",
   "execution_count": null,
   "metadata": {},
   "outputs": [],
   "source": []
  },
  {
   "cell_type": "markdown",
   "metadata": {},
   "source": [
    "3. Calcule la constante \\(C\\) para acotar la relación entre el PMF objetivo y el PMF propuesto."
   ]
  },
  {
   "cell_type": "code",
   "execution_count": null,
   "metadata": {},
   "outputs": [],
   "source": []
  },
  {
   "cell_type": "markdown",
   "metadata": {},
   "source": [
    "4. Implemente el método de aceptación-rechazo para generar muestras aleatorias a partir de la distribución discreta personalizada."
   ]
  },
  {
   "cell_type": "code",
   "execution_count": null,
   "metadata": {},
   "outputs": [],
   "source": []
  },
  {
   "cell_type": "markdown",
   "metadata": {},
   "source": [
    "5. Genere una muestra aleatoria de tamaño 1000 a partir de la distribución personalizada."
   ]
  },
  {
   "cell_type": "code",
   "execution_count": null,
   "metadata": {},
   "outputs": [],
   "source": []
  },
  {
   "cell_type": "markdown",
   "metadata": {},
   "source": [
    "6. Trace un histograma de la muestra generada y compárelo con el PMF objetivo."
   ]
  },
  {
   "cell_type": "code",
   "execution_count": null,
   "metadata": {},
   "outputs": [],
   "source": []
  },
  {
   "cell_type": "markdown",
   "metadata": {},
   "source": [
    "### Task 02\n",
    "Suponiendo que es simple generar variables aleatorias con función de probabilidad acumulada Fi(x) para i de 1 a n, tenemos la variable aleatoria V con una función de probabilidad acumulada.\n",
    "$$\n",
    "F(x) = \\sum_{i=1}^{n} p_i F_i(x)\n",
    "$$\n",
    "\n",
    "Donde p_i constituye una distribución probabilística\n",
    "1. Describa un algoritmo para generar V\n",
    "2. Demuestre que el algoritmo genera adecuadamente V\n",
    "\n",
    "Hint: Probablemente le sea de utilidad el método de composición"
   ]
  },
  {
   "cell_type": "code",
   "execution_count": null,
   "metadata": {},
   "outputs": [],
   "source": []
  },
  {
   "cell_type": "markdown",
   "metadata": {},
   "source": [
    "### Task 03\n",
    "\n",
    "Suponga que usted es gerente de proyecto en Inversiones Chileras S.A.; y debe elegir entre dos proyectos a realizar, la construcción de un Hotel o la construcción de un Centro Comercial. Los flujos de caja esperados para cada proyecto son los siguientes:\n",
    "\n",
    "**Proyecto Hotel**\n",
    "\n",
    "| Tiempo | Vt                      |\n",
    "|--------|-------------------------|\n",
    "| 0      | -800                    |\n",
    "| 1      | normal(-800,50)         |\n",
    "| 2      | normal(-800,100)        |\n",
    "| 3      | normal(-700,150)        |\n",
    "| 4      | normal(300,200)         |\n",
    "| 5      | normal(500,200)         |\n",
    "| 7      | uniform(200,8440)       |\n",
    "\n",
    "**Proyecto Centro Comercial**\n",
    "\n",
    "| Tiempo | Vt                      |\n",
    "|--------|-------------------------|\n",
    "| 0      | -900                    |\n",
    "| 1      | normal(-600,50)         |\n",
    "| 2      | normal(-400,50)         |\n",
    "| 3      | normal(250,150)         |\n",
    "| 4      | normal(250,150)         |\n",
    "| 5      | normal(350,150)         |\n",
    "| 7      | uniform(1600,6000)      |\n",
    "\n",
    "Si el parámetro que quiere utilizar para comparar ambos proyectos es el Valor Presente Neto al 10% del costo de capital.\n",
    "\n",
    "1. Realice tres simulaciones para determinar cuál de los proyectos es el más rentable. Utilice 100, 1,000 y 10,000 iteraciones.\n"
   ]
  },
  {
   "cell_type": "code",
   "execution_count": null,
   "metadata": {},
   "outputs": [],
   "source": []
  }
 ],
 "metadata": {
  "language_info": {
   "name": "python"
  }
 },
 "nbformat": 4,
 "nbformat_minor": 2
}
